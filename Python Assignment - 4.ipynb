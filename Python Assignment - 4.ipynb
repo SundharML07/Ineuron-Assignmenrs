{
 "cells": [
  {
   "cell_type": "markdown",
   "metadata": {},
   "source": [
    "1.1 Write a Python Program(with class concepts) to find the area of the triangle using the below\n",
    "formula.\n",
    "\n",
    "area = (s*(s-a)*(s-b)*(s-c)) ** 0.5\n",
    "\n",
    "Function to take the length of the sides of triangle from user should be defined in the parent\n",
    "class and function to calculate the area should be defined in subclass."
   ]
  },
  {
   "cell_type": "code",
   "execution_count": 5,
   "metadata": {},
   "outputs": [
    {
     "name": "stdout",
     "output_type": "stream",
     "text": [
      "12.0\n"
     ]
    }
   ],
   "source": [
    "class params( object ):\n",
    "    def __init__(self,a,b,c,s): \n",
    "        self.a=a\n",
    "        self.b=b\n",
    "        self.c=c\n",
    "        self.s=s\n",
    "\n",
    "class operation(params):\n",
    "    def __init__(self,a,b,c,s): \n",
    "        params.__init__(self,a,b,c,s)\n",
    "    def triangle(self): \n",
    "        return (self.s*(self.s-self.a)*(self.s-self.b)*(self.s-self.c)) * 0.5\n",
    "\n",
    "a = operation(1,2,3,4)\n",
    "print(a.triangle())"
   ]
  },
  {
   "cell_type": "markdown",
   "metadata": {},
   "source": [
    "1.2 Write a function filter_long_words() that takes a list of words and an integer n and returns\n",
    "the list of words that are longer than n."
   ]
  },
  {
   "cell_type": "code",
   "execution_count": 18,
   "metadata": {},
   "outputs": [
    {
     "name": "stdout",
     "output_type": "stream",
     "text": [
      "['String', 'abcde']\n"
     ]
    }
   ],
   "source": [
    "def filter_long_words(l,n):\n",
    "    lst=[]\n",
    "    for i in range(0,len(l)):\n",
    "        temp=len(str(l[i]))\n",
    "        if(temp>n):\n",
    "            lst.append(l[i])\n",
    "    return lst\n",
    "\n",
    "lstt=filter_long_words(['String','abc','abcde','ac'],3)\n",
    "print(lstt)"
   ]
  },
  {
   "cell_type": "markdown",
   "metadata": {},
   "source": [
    "2.1 Write a Python program using function concept that maps list of words into a list of integers\n",
    "representing the lengths of the corresponding words."
   ]
  },
  {
   "cell_type": "code",
   "execution_count": 21,
   "metadata": {},
   "outputs": [
    {
     "name": "stdout",
     "output_type": "stream",
     "text": [
      "a string length is 1\n",
      "ab string length is 2\n",
      "abc string length is 3\n",
      "abcd string length is 4\n"
     ]
    }
   ],
   "source": [
    "def mapping(l):\n",
    "    lst=[]\n",
    "    for i in range(0,len(l)):\n",
    "        lst.append(len(l[i]))\n",
    "    return lst\n",
    "lst1=['a','ab','abc','abcd']\n",
    "lst2=mapping(lst1)\n",
    "for i,j in zip(lst1,lst2):\n",
    "    print('{} string length is {}'.format(i,j))"
   ]
  },
  {
   "cell_type": "markdown",
   "metadata": {},
   "source": [
    "2.2 Write a Python function which takes a character (i.e. a string of length 1) and returns True if\n",
    "it is a vowel, False otherwise."
   ]
  },
  {
   "cell_type": "code",
   "execution_count": 24,
   "metadata": {},
   "outputs": [
    {
     "name": "stdout",
     "output_type": "stream",
     "text": [
      "False\n"
     ]
    }
   ],
   "source": [
    "def vowel(ch):\n",
    "    lst=['a','e','i','o','u']\n",
    "    for i in lst:\n",
    "        if(i==ch):\n",
    "            return True\n",
    "    return False\n",
    "print(vowel('m'))"
   ]
  },
  {
   "cell_type": "code",
   "execution_count": null,
   "metadata": {},
   "outputs": [],
   "source": []
  },
  {
   "cell_type": "code",
   "execution_count": null,
   "metadata": {},
   "outputs": [],
   "source": []
  }
 ],
 "metadata": {
  "kernelspec": {
   "display_name": "Python 3",
   "language": "python",
   "name": "python3"
  },
  "language_info": {
   "codemirror_mode": {
    "name": "ipython",
    "version": 3
   },
   "file_extension": ".py",
   "mimetype": "text/x-python",
   "name": "python",
   "nbconvert_exporter": "python",
   "pygments_lexer": "ipython3",
   "version": "3.8.3"
  }
 },
 "nbformat": 4,
 "nbformat_minor": 4
}
